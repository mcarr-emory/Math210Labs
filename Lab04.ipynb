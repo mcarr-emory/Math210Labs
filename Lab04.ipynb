{
  "nbformat": 4,
  "nbformat_minor": 0,
  "metadata": {
    "colab": {
      "name": "Lab 04.ipynb",
      "provenance": [],
      "collapsed_sections": [],
      "include_colab_link": true
    },
    "kernelspec": {
      "name": "python3",
      "display_name": "Python 3"
    }
  },
  "cells": [
    {
      "cell_type": "markdown",
      "metadata": {
        "id": "view-in-github",
        "colab_type": "text"
      },
      "source": [
        "<a href=\"https://colab.research.google.com/github/mcarr-emory/Math210Labs/blob/master/Lab04.ipynb\" target=\"_parent\"><img src=\"https://colab.research.google.com/assets/colab-badge.svg\" alt=\"Open In Colab\"/></a>"
      ]
    },
    {
      "cell_type": "markdown",
      "metadata": {
        "id": "mN0I1hYvp4Gx",
        "colab_type": "text"
      },
      "source": [
        "### Name: \n",
        "\n",
        "### Student ID: "
      ]
    },
    {
      "cell_type": "markdown",
      "metadata": {
        "id": "bHi2H286paFN",
        "colab_type": "text"
      },
      "source": [
        "# Math 210 Lab 4\n",
        "\n",
        "Goals:\n",
        " \n",
        "* Produce Taylor polynomials and their graphs\n"
      ]
    },
    {
      "cell_type": "markdown",
      "metadata": {
        "id": "WEEEmHOILj7_",
        "colab_type": "text"
      },
      "source": [
        "In this lab you'll write a (python) function to evaluate the Taylor polynomial of a given (mathematical) function.  We'll start with importing the usual libraries."
      ]
    },
    {
      "cell_type": "code",
      "metadata": {
        "id": "mZZqUPjspZGa",
        "colab_type": "code",
        "colab": {}
      },
      "source": [
        "import numpy as np\n",
        "import matplotlib.pyplot as plt\n",
        "\n",
        "\n"
      ],
      "execution_count": 0,
      "outputs": []
    },
    {
      "cell_type": "markdown",
      "metadata": {
        "id": "lqAspVZVZxLL",
        "colab_type": "text"
      },
      "source": [
        "Here is a function to compute a Taylor polynomial for $y=\\ln x$.  \n",
        "1. I worked out a function to define the $k^{th}$ derivative of $f(x)$ at $x=1$ and got $f^{(k)}(1)=(-1)^{k+1}(k-1)!$, except that $f(1)=0$.  \n",
        "2. I defined a variable called `sum` (starting at 0) and a variable `k`.\n",
        "3. I called a `while` loop to repeat as long as $k\\leq n$.  For each $k$, first it checks that $k>0$, because $k=0$ is an exception to the derivative I calculated.  If we aren't on the $0^{th}$ term, then $f^{(k)}(1)/k!(x-1)^k$ is added to the sum.  Finally $k$ is increased by 1 and the loop repeats (unless $k$ is now greater than $n$).\n",
        "4. Once the sum has the contributions from each $k$, the sum is retuned as the output of the function.\n",
        "\n",
        "\n",
        "Pay careful attention to the formatting and syntax, because you'll be writing your own function later."
      ]
    },
    {
      "cell_type": "code",
      "metadata": {
        "id": "_oFqk7lLZw65",
        "colab_type": "code",
        "colab": {}
      },
      "source": [
        "# This function evaluates the nth Taylor polynomial at x by summing the terms\n",
        "def taylor(n, x):\n",
        "  sum=0.0\n",
        "  k=0\n",
        "  while k<=n:   \n",
        "    if k>0:\n",
        "      sum=sum+(-1)**(k+1)*np.math.factorial(k-1)/np.math.factorial(k)*(x-1)**k\n",
        "    k=k+1\n",
        "  return sum"
      ],
      "execution_count": 0,
      "outputs": []
    },
    {
      "cell_type": "markdown",
      "metadata": {
        "id": "erNNoJ-EgvS0",
        "colab_type": "text"
      },
      "source": [
        "Did it work?  Let's try graphing the 5th Taylor polynomial.  We'll graph the actual function too so we can see how close our approximation is."
      ]
    },
    {
      "cell_type": "code",
      "metadata": {
        "id": "-8Wv_YHjg5e_",
        "colab_type": "code",
        "colab": {}
      },
      "source": [
        "x=np.arange(0.1,2.5,0.05)\n",
        "\n",
        "plt.plot(x,taylor(5,x))\n",
        "plt.plot(x,np.log(x))\n",
        "\n",
        "plt.show()"
      ],
      "execution_count": 0,
      "outputs": []
    },
    {
      "cell_type": "markdown",
      "metadata": {
        "id": "wT36AkqaLzww",
        "colab_type": "text"
      },
      "source": [
        "Now you'll get a trig function to approximate.  Enter your name into the code below."
      ]
    },
    {
      "cell_type": "code",
      "metadata": {
        "id": "eCCkDexLMIwV",
        "colab_type": "code",
        "colab": {}
      },
      "source": [
        "yourName=''  #your name goes between the ' marks.\n",
        "\n",
        "def alphanum(name):\n",
        "  if 64<ord(name[0])<91:\n",
        "    return ord(name[0])-64\n",
        "  elif 96<ord(name[0])<123:\n",
        "    return ord(name[0])-96\n",
        "  else:\n",
        "    return 0\n",
        "  \n",
        "global myrand\n",
        "\n",
        "if alphanum(yourName)==0:\n",
        "  print(\"Your name doesn't seem to start with a letter. Try again.\")\n",
        "  students=[]\n",
        "elif 1<=alphanum(yourName)<=3:\n",
        "  def f(x):\n",
        "    return np.sin(3*x)\n",
        "  functionName='sin(3x)'\n",
        "elif 4<=alphanum(yourName)<=6:\n",
        "  def f(x):\n",
        "    return np.sin(5*x)\n",
        "  functionName='sin(5x)'\n",
        "elif 7<=alphanum(yourName)<=10:\n",
        "  def f(x):\n",
        "    return np.cos(3*x)\n",
        "  functionName='cos(3x)'\n",
        "elif 11<=alphanum(yourName)<=12:\n",
        "  def f(x):\n",
        "    return np.cos(4*x)\n",
        "  functionName='cos(4x)'\n",
        "elif 13<=alphanum(yourName)<=17:\n",
        "  def f(x):\n",
        "    return np.sin(4*x)\n",
        "  functionName='sin(4x)'\n",
        "elif 18<=alphanum(yourName)<=21:\n",
        "  def f(x):\n",
        "    return np.cos(5*x)\n",
        "  functionName='cos(5x)'\n",
        "elif 22<=alphanum(yourName)<=26:\n",
        "  def f(x):\n",
        "    return np.sin(2*x)\n",
        "  functionName='sin(2x)'\n",
        "\n",
        "print(f'You will be working with f(x)={functionName}')\n",
        "\n",
        "x=np.arange(-4,4,0.05)\n",
        "plt.plot(x,f(x))\n",
        "plt.show()\n",
        "\n"
      ],
      "execution_count": 0,
      "outputs": []
    },
    {
      "cell_type": "markdown",
      "metadata": {
        "id": "WVsGlmYkAfLR",
        "colab_type": "text"
      },
      "source": [
        "# Questions\n",
        "Write answers to these questions using code and text blocks.  When you are satisfied, download and submit an .ipynb file to Canvas."
      ]
    },
    {
      "cell_type": "markdown",
      "metadata": {
        "id": "GsSTT8BRt9ab",
        "colab_type": "text"
      },
      "source": [
        "## Q1 \n",
        "Compute an algebraic expression for the $k^{th}$ derivative of $f(x)$ at $x=0$.\n"
      ]
    },
    {
      "cell_type": "markdown",
      "metadata": {
        "id": "6gvhAaIzbgjR",
        "colab_type": "text"
      },
      "source": [
        "## Q2\n",
        "Write a `taylor` function for your $f(x)$ centered at $x=0$.  As we saw in class, it might be most convenient for `taylor(n,x)` to evaluate the $2n+1$ or $2n$ degree polynomial.  Do whatever works best for you.  \n",
        "\n",
        "Remember you can copy/paste from the code blocks above and modify accordingly.  \n",
        "\n",
        "After running your definition block, the code block below it will graph the first ten Taylor polynomials and the actual function.\n"
      ]
    },
    {
      "cell_type": "code",
      "metadata": {
        "id": "07iDcOMuqDJi",
        "colab_type": "code",
        "colab": {}
      },
      "source": [
        "def taylor(n,x):\n",
        "  "
      ],
      "execution_count": 0,
      "outputs": []
    },
    {
      "cell_type": "code",
      "metadata": {
        "id": "jpSKnlLcqEJx",
        "colab_type": "code",
        "colab": {}
      },
      "source": [
        "x=np.arange(-4,4,0.05)\n",
        "\n",
        "plt.plot(x,taylor(3,x))\n",
        "  \n",
        "plt.plot(x,f(x))\n",
        "\n",
        "plt.show()"
      ],
      "execution_count": 0,
      "outputs": []
    },
    {
      "cell_type": "markdown",
      "metadata": {
        "id": "Bty6JZvYd_mD",
        "colab_type": "text"
      },
      "source": [
        "## Q3 \n",
        "\n",
        "What is the error bound for your polynomial? Recall that the error bound for $\\sin(x)$ and $\\cos(x)$ are $|R_{n+1}(x)|\\leq \\frac{1}{(n+1)!}x^{n+1}$.  What role does the coefficient of $x$ play in your error bound and why does this make sense?\n",
        "\n",
        "\n"
      ]
    }
  ]
}