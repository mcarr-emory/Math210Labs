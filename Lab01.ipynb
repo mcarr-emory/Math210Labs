{
  "nbformat": 4,
  "nbformat_minor": 0,
  "metadata": {
    "colab": {
      "name": "Untitled0.ipynb",
      "version": "0.3.2",
      "provenance": [],
      "collapsed_sections": [],
      "include_colab_link": true
    },
    "kernelspec": {
      "name": "python3",
      "display_name": "Python 3"
    }
  },
  "cells": [
    {
      "cell_type": "markdown",
      "metadata": {
        "id": "view-in-github",
        "colab_type": "text"
      },
      "source": [
        "<a href=\"https://colab.research.google.com/github/mcarr-emory/Math210Labs/blob/master/Lab01.ipynb\" target=\"_parent\"><img src=\"https://colab.research.google.com/assets/colab-badge.svg\" alt=\"Open In Colab\"/></a>"
      ]
    },
    {
      "cell_type": "markdown",
      "metadata": {
        "id": "IwODno0LR959",
        "colab_type": "text"
      },
      "source": [
        "###Name:\n",
        "\n",
        "###Student ID: "
      ]
    },
    {
      "cell_type": "markdown",
      "metadata": {
        "id": "PL5OYleXWimV",
        "colab_type": "text"
      },
      "source": [
        "#Math 210 Lab 1\n",
        "\n",
        "Goals\n",
        "\n",
        "*   Learn to edit a Jupyter Notebook\n",
        "*   Familiarize yourself with the way Python handles data.\n",
        "*   Learn to plot graphs using `matplotlib`.\n",
        "*   Apply Newton's method to approximate the zeroes of a function.\n",
        "*   Explain the connection between the geometry of the graph $y=f(x)$ and the accuracy of Newton's method.\n",
        "\n",
        "\n",
        "\n"
      ]
    },
    {
      "cell_type": "markdown",
      "metadata": {
        "id": "exZSS1Q7f13W",
        "colab_type": "text"
      },
      "source": [
        "###What Am I Looking At?\n",
        "\n",
        "You are looking at a file called a [Jupyter notebook](https://jupyter.org/).  If you clicked the **open in colab** button above, then this notebook is running on a Google research server hosted by [Google Colaboratory](https://research.google.com/colaboratory/faq.html).  A Jupyter notebook is a file that contains blocks of text, formatted using a simple set of commands, and blocks of code that can be edited and run in real time. Everything you can see here, you can edit.  Start by double-clicking on the text block at the top. Add your name and student ID to the approrpriate lines, so that when you submit this file, I know whom to give credit for it."
      ]
    },
    {
      "cell_type": "markdown",
      "metadata": {
        "id": "K9lihV8Ug-Wp",
        "colab_type": "text"
      },
      "source": [
        "###What kind of code will we run?\n",
        "\n",
        "Jupyter notebooks were originally designed to run code in programming language called Python, but they now can use a variety of languages.  We will stick to Python in this course.  Learning how to program in Python is not a requirement of this course, but if you're interested in knowing more you can check out the official webpage of Python here: [www.python.org](https://www.python.org).\n",
        "\n",
        "I recently learned enough Python to automate most of the tedious tasks I do for my job as an instructor.  I learned from this guide: [automatetheboringstuff.com](https://automatetheboringstuff.com). There are lots of resources to choose from, if you decide you want to learn Python.\n",
        "\n",
        "In its native state, Python contains all the tools you need to store, search and manipulate data. Look at the code block below.  Each line is an instruction.  I've added comments to each line, anything to the right of a `#` will be ignored by Python.  \n",
        "\n",
        "**Click the arrow in the top left corner of the code block to run the code.  The first time you run code from this worksheet you'll get a warning from google (because it is from an outside source).  Go ahead and tell it to run anyway.** "
      ]
    },
    {
      "cell_type": "code",
      "metadata": {
        "id": "2lcAPUcwjHIE",
        "colab_type": "code",
        "colab": {}
      },
      "source": [
        "students=['Veronica','Yue','Oscar','Aaron','Neha','Lars']   # assign a list of names to the variable students\n",
        "students.sort()                                             # sort the list alphabetically\n",
        "print(students)                                             # print the list into the output box below"
      ],
      "execution_count": 0,
      "outputs": []
    },
    {
      "cell_type": "markdown",
      "metadata": {
        "id": "OuiFEahWlLqt",
        "colab_type": "text"
      },
      "source": [
        "###Exercise 1\n",
        "1. Find a partner or two near you to discuss your findings on the following activities.  \n",
        "2.   Double-click the code block above and add a new line to the bottom of the code that says `print(students[2])`. Re-run the code.  What does this line do?\n",
        "3.   What index (number) would you use to get this program to print Aaron instead?\n",
        "4.   What does `print(students[-1])` do?\n",
        "5.   You can add yourself to the student list by inserting a line with the code `students.append('Your Name')`.  Try inserting this command in a few different places and observe what happens.  Can you explain to your partner(s) why the code behaves the way it does in each place?\n",
        "\n",
        "**Remember that you can cut/copy/paste text with ctrl-x/ctrl-c/ctrl-v.**"
      ]
    },
    {
      "cell_type": "markdown",
      "metadata": {
        "id": "ZvzzwXNHocRz",
        "colab_type": "text"
      },
      "source": [
        "###Importing Math Libraries\n",
        "\n",
        "Python has certain universally useful functions built-in.  For something more specialized we import a library of functions that are useful to the program we want to write. \n",
        "\n",
        "Today we'll import `matplotlib` and  `numpy`.  `matplotlib` is a library of functions that produce graphs.  `numpy` is a scientific computing package.   The import instructions are in the code box below.\n",
        "\n",
        "\n",
        "**You should run it once.** Until you reload the notebook, all future code blocks will remember that you imported these functions earlier.\n",
        "\n"
      ]
    },
    {
      "cell_type": "code",
      "metadata": {
        "id": "CX3-ad7Tqsz0",
        "colab_type": "code",
        "colab": {}
      },
      "source": [
        "import matplotlib.pyplot as plt    # Import the `pyplot` functions from the package `matplotlib` under the nickname `plt` so we can refer to them more coveniently.\n",
        "import numpy as np                 # Import all of the functions of the package `numpy` under the nickname `np`."
      ],
      "execution_count": 0,
      "outputs": []
    },
    {
      "cell_type": "markdown",
      "metadata": {
        "id": "IUvOHvpHvRy4",
        "colab_type": "text"
      },
      "source": [
        "###Your Function\n",
        "Your name still is in the list `students` right?  The code below will assign you a personal function to study for the rest of this worksheet.  Not only will it print your function, it will also define a function `f(x)` that Python can call upon for the rest of this worksheet."
      ]
    },
    {
      "cell_type": "code",
      "metadata": {
        "id": "3hmy8qV9uNta",
        "colab_type": "code",
        "colab": {}
      },
      "source": [
        "for defaultName in ['Veronica','Yue','Oscar','Aaron','Neha','Lars']:\n",
        "  if defaultName in students:\n",
        "    students.remove(defaultName)\n",
        "    \n",
        "if len(students)>0:\n",
        "  yourName=students[0]\n",
        "  print('I think your name is '+yourName)   \n",
        "else: \n",
        "  print(\"I didn't find your name in students.  Enter it now\")\n",
        "  yourName=input()\n",
        "\n",
        "def alphanum(name):\n",
        "  if 64<ord(name[0])<91:\n",
        "    return ord(name[0])-64\n",
        "  elif 96<ord(name[0])<123:\n",
        "    return ord(name[0])-96\n",
        "  else:\n",
        "    return 0\n",
        "  \n",
        "if alphanum(yourName)==0:\n",
        "  print(\"Your name doesn't seem to start with a letter. Try again.\")\n",
        "  students=[]\n",
        "elif 1<=alphanum(yourName)<=5:\n",
        "  def f(x):\n",
        "    y=2*x**3-5*x+2\n",
        "    return y\n",
        "  z=1.320011733446322\n",
        "  print('Your function f is defined in Python as 2*x**3-5*x+2')\n",
        "  print('You may recognize it better as f(x)=2x^3-5x+2')\n",
        "elif 6<=alphanum(yourName)<=10:\n",
        "  def f(x):\n",
        "    y=-x**3+3*x-1\n",
        "    return y\n",
        "  z=1.532088886237956\n",
        "  print('Your function f is defined in Python as -x**3+3*x-1')\n",
        "  print('You may recognize it better as f(x)=-x^3+3x-1')\n",
        "elif 11<=alphanum(yourName)<=15:\n",
        "  def f(x):\n",
        "    y=x**4-2*x**2-1\n",
        "    return y\n",
        "  z=1.553773974030037\n",
        "  print('Your function f is defined in Python as x**4-2*x**2-1')\n",
        "  print('You may recognize it better as f(x)=x^4-2x^2-1')\n",
        "elif 16<=alphanum(yourName)<=20:\n",
        "  def f(x):\n",
        "    y=-2*x**4+5*x**2+1\n",
        "    return y\n",
        "  z=1.638944984322081\n",
        "  print('Your function f is defined in Python as -2*x**4+5*x**2+1')\n",
        "  print('You may recognize it better as f(x)=-2x^4+5x^2+1')\n",
        "elif 20<=alphanum(yourName)<=26:\n",
        "  def f(x):\n",
        "    y=x**4+x**3-3*x**2-1\n",
        "    return y\n",
        "  z=1.433107149516094\n",
        "  print('Your function f is defined in Python as x**4+x**3-3*x**2-1')\n",
        "  print('You may recognize it better as f(x)=x^4+x^3-3x^2-1')\n",
        "else:\n",
        "  print(\"Math isn't working today. Try again tomorrow.\")\n",
        " "
      ],
      "execution_count": 0,
      "outputs": []
    },
    {
      "cell_type": "markdown",
      "metadata": {
        "id": "ZFN0BHG81IEe",
        "colab_type": "text"
      },
      "source": [
        "Don't worry about trying to understand this code now.  If you're curious about learning more Python, you can read it carefully later and try to figure out what it is doing. For now, you have a function that you can apply to any number.  For example:"
      ]
    },
    {
      "cell_type": "code",
      "metadata": {
        "id": "yB2_by0N1wAr",
        "colab_type": "code",
        "colab": {}
      },
      "source": [
        "f(7)"
      ],
      "execution_count": 0,
      "outputs": []
    },
    {
      "cell_type": "markdown",
      "metadata": {
        "id": "AVjSWrcb7Ir3",
        "colab_type": "text"
      },
      "source": [
        "###Plotting a Graph\n",
        "\n",
        "The code below will plot a grah of your function using the `plt` commands we imported.\n",
        "\n"
      ]
    },
    {
      "cell_type": "code",
      "metadata": {
        "id": "Ua2eWwMe9Mtt",
        "colab_type": "code",
        "colab": {}
      },
      "source": [
        "\n",
        "\n",
        "x = np.arange(-3,3, 0.2) # produce a list named x of the values from -3 to 3 sampled every 0.2\n",
        "\n",
        "\n",
        "plt.plot(x,f(x),'-o')# defines a graph by plugging the values in x into the function f and connecting them with lines\n",
        "plt.grid(True)  # adds gridlines to the graph\n",
        "plt.show        # draws the graph in the output box"
      ],
      "execution_count": 0,
      "outputs": []
    },
    {
      "cell_type": "markdown",
      "metadata": {
        "id": "8dji9d6aC5EJ",
        "colab_type": "text"
      },
      "source": [
        "###Exercise 2\n",
        "1.  Try replacing the argument `'-o'` in `plt.plot` with `'o'` or with `'-'`.  How does this change the graph?\n",
        "2.  Where is the largest root of $f$ (the largest value $x$ where $f(x)=0$)? Try redefining `x` to zoom in closer to that point and rerun the code.  If you zoom in far, you may need samples more frequent than `0.2`."
      ]
    },
    {
      "cell_type": "markdown",
      "metadata": {
        "id": "AuVlmx_eN3ho",
        "colab_type": "text"
      },
      "source": [
        "##Newton's Method\n",
        "\n",
        "Newton's method is a way of approximating the zeros of a function.  Poor Isaac Newton didn't have a computer to compute these things so he had to do them by hand.  His method only requires adding, subtracting, multiplying and dividing so it produces rational approximations.  This is useful when your function is $x^2-2$.  We all know that the zeros of this are $\\pm \\sqrt{2}$, but how big is $\\sqrt{2}$ anyway? A good decimal approximation anwsers that.\n",
        "\n",
        "The method is straightforward.  \n",
        "1.  Guess where the root is.\n",
        "2.  Compute the equation of the tangent line at that point.\n",
        "3.  See where the tangent line intersects the x-axis.\n",
        "\n",
        "Recall that the equation of a tangent line is $$L(x)=f(a)+f'(a)(x-a)$$\n",
        "We'll try to use this to approximate the largest root (highest $x$ value) of $f(x)$.  To produce the tangent line, we will need two things:\n",
        "\n",
        "1. A guess that lies near the largest root of $f(x)$.  We'll call this value `a`.\n",
        "2. A function $f'(x)$.  `f'` is not a valid function name so we'll call it `deriv`.\n",
        "\n",
        "###Exercise 3 \n",
        "Fill in the requested information to complete the following programs.\n",
        "\n",
        "\n"
      ]
    },
    {
      "cell_type": "code",
      "metadata": {
        "id": "tdMDXVKcQlUd",
        "colab_type": "code",
        "colab": {}
      },
      "source": [
        "a=                  #<- put your guess here.  You guess is a number, so no quotation marks are required.\n",
        "def deriv(x): \n",
        "  return            #<- put the derivative of f(x) here.  No quotation marks are required. Remember 4x^3 is written 4*x**3\n",
        "\n",
        "def L(x):\n",
        "  return f(a)+deriv(a)*(x-a)\n",
        "\n",
        "#Now we'll plot the original function and tangent line for the same values of x you defined in the previous code block.  \n",
        "#If you want to zoom in, you can redefine x=np.arange( , , ) here (or back there if you run that code again).\n",
        "\n",
        "plt.plot(x,f(x))      \n",
        "plt.plot(x,L(x))\n",
        "plt.grid(True)  \n",
        "plt.show        \n",
        "\n"
      ],
      "execution_count": 0,
      "outputs": []
    },
    {
      "cell_type": "markdown",
      "metadata": {
        "id": "EqmnbK3eTtnI",
        "colab_type": "text"
      },
      "source": [
        "This makes a nice picture, but it doesn't compute the $x$ value where the line $L(x)$ meets the $x$-axis.  Let's write a new function returns the solution to $L(x)=0$. Work out the algebra on paper and then add your expression to the return line to finish defining the function `newton`. This function will return different values for different guesses $a$, so this is a function of $a$."
      ]
    },
    {
      "cell_type": "code",
      "metadata": {
        "id": "JBGhm_QgWAiN",
        "colab_type": "code",
        "colab": {}
      },
      "source": [
        "def newton(a):\n",
        "  return    #<- put your solution here.  It should be an expression containing a, f and deriv"
      ],
      "execution_count": 0,
      "outputs": []
    },
    {
      "cell_type": "markdown",
      "metadata": {
        "id": "SRxJRgfxYUMm",
        "colab_type": "text"
      },
      "source": [
        "Now we can apply Newton's method automatically. In fact, because it's a function we can apply it to any guess $a$."
      ]
    },
    {
      "cell_type": "code",
      "metadata": {
        "id": "DhakFg8UYije",
        "colab_type": "code",
        "colab": {}
      },
      "source": [
        "print(newton(4.2))"
      ],
      "execution_count": 0,
      "outputs": []
    },
    {
      "cell_type": "markdown",
      "metadata": {
        "id": "l2eBEpZxYp49",
        "colab_type": "text"
      },
      "source": [
        "Better yet, we can see how far off our approximation is, because I secretly hid the exact value of the largest root of $f(x)$ in the variable `z`.  Now we can print the approximation and the error as follows."
      ]
    },
    {
      "cell_type": "code",
      "metadata": {
        "id": "gZ60GWNJZAxM",
        "colab_type": "code",
        "colab": {}
      },
      "source": [
        "def error(x):\n",
        "  return x-z\n",
        "print([newton(4.2),error(newton(4.2))])"
      ],
      "execution_count": 0,
      "outputs": []
    },
    {
      "cell_type": "markdown",
      "metadata": {
        "id": "Dlj0t1SzZW8x",
        "colab_type": "text"
      },
      "source": [
        "Here's the last piece.  Newton's method isn't meant to be applied once, but over and over. Once we use Newton's method to improve our guess to an approximation, we can use it again using the approximation as our guess to get and even better approximation!  \n",
        "\n",
        "Now we are happy that we have a computer, because computers do not mind doing the same thing over and over.  Here is some code to apply Newton's method, replace the old guess with a new guess and repeat 10 times.  It does this using a `for` loop.  Python will repeat the indented instructions under a `for` command until it exhausts the initial conditions."
      ]
    },
    {
      "cell_type": "code",
      "metadata": {
        "id": "IVSTFgZSZ9mB",
        "colab_type": "code",
        "colab": {}
      },
      "source": [
        "#enter your initial guess here\n",
        "a= \n",
        "\n",
        "\n",
        "\n",
        "# plot f(x)\n",
        "plt.plot(x,f(x))\n",
        "plt.grid(True)\n",
        "\n",
        "\n",
        "\n",
        "# this will perform the indented commands for every value of i in [0,1,2,3,4,5,6,7,8,9].  \n",
        "# i isn't being used in the caclulation.  It is just keeping count of how many times the loop has repeated.\n",
        "for i in range(10):\n",
        "  b=newton(a)               # b is where the tangent line at x=a meets the x axis\n",
        "  plt.plot([a,b],[f(a),0])  # plot the tangent line (only the segment from x=a to x=b)\n",
        "  a=b                       # assign the value b to the varaible a, so that b becomes the new guess\n",
        "  \n",
        "  \n",
        "  \n",
        "# after the loop finishes, we show a graph of f(x) with all 10 tangent lines that it produced. \n",
        "# we also print the final value of a, along with the error (which is probably really small)\n",
        "plt.show\n",
        "print(a, error(a))\n",
        "\n",
        "  \n"
      ],
      "execution_count": 0,
      "outputs": []
    },
    {
      "cell_type": "markdown",
      "metadata": {
        "id": "4LKRqK2-dMHk",
        "colab_type": "text"
      },
      "source": [
        "###Exercise 4\n",
        "Every time this code sets `a=b` it forgets the old value of `a`.  Let's fix this by recording each `b` in a list.  \n",
        "1. Before the `for` loop, define a new list by defining `approximations=[[a,error(a)]]`\n",
        "2. Within the `for` loop, add `b` and its error to the list `approximations.append([b,error(b)])`. Remember to be in the loop it must be indented.\n",
        "3. After the `for` loop, print the list of approximations `print(approximations)`  \n",
        "4. If you don't like the way the list was printed, try importing the library `pprint` (short for pretty print).  Then you can print with `pprint.pprint(approximations)`\n",
        "\n"
      ]
    },
    {
      "cell_type": "markdown",
      "metadata": {
        "id": "OQYVy9J7fjTf",
        "colab_type": "text"
      },
      "source": [
        "#Questions\n",
        "\n",
        "This is the part of the assignment that will be graded.  For each question, you should \n",
        "1. Gather data from people with a variety of different functions.  \n",
        "2. Compare their results and yours to draw conclusions. \n",
        "3. Then you should compose an informative anwser (in your own words) using complete sentences.  \n",
        "\n",
        "You can create new code and text boxes using the menu at the top of the screen. You should use code blocks to produce plots that illustrate your points. If you don't have time to compose your answers in the lab meeting, save your work and log back into [colab.research.google.com](https://colab.research.google.com) later.  \n",
        "\n",
        "When you're finished, choose **download .ipynb** from the **file** menu.  Save the file and then submit it to the lab 1 assignment on canvas."
      ]
    },
    {
      "cell_type": "markdown",
      "metadata": {
        "id": "uouMyN0ppgGu",
        "colab_type": "text"
      },
      "source": [
        "##Q1 \n",
        "Sometimes Newton's method underestimates the nearby root of the function.  Sometimes it overestimates it.  How do the shape of the graph and the position of the guess relative to the root determine which it will do?"
      ]
    },
    {
      "cell_type": "markdown",
      "metadata": {
        "id": "S8uf-R0z7PVB",
        "colab_type": "text"
      },
      "source": [
        "##Q2\n",
        "\n",
        "Your function has more than one zero.  Explain how you can choose different initial guesses to approximate the other roots. Produce those approximations (remember you can copy/paste code into a new code block)."
      ]
    },
    {
      "cell_type": "markdown",
      "metadata": {
        "id": "xiAT-ybicv1N",
        "colab_type": "text"
      },
      "source": [
        "##Q3 \n",
        "Find and demonstrate an intital guess on which Newton's method behaves erratically.  Explain in a sentence or two what about the position of the guess and the shape of the graph is producing this behavior."
      ]
    }
  ]
}