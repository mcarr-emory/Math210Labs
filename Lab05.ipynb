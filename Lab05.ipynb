{
  "nbformat": 4,
  "nbformat_minor": 0,
  "metadata": {
    "colab": {
      "name": "Lab 05.ipynb",
      "provenance": [],
      "collapsed_sections": [],
      "include_colab_link": true
    },
    "kernelspec": {
      "name": "python3",
      "display_name": "Python 3"
    }
  },
  "cells": [
    {
      "cell_type": "markdown",
      "metadata": {
        "id": "view-in-github",
        "colab_type": "text"
      },
      "source": [
        "<a href=\"https://colab.research.google.com/github/mcarr-emory/Math210Labs/blob/master/Lab05.ipynb\" target=\"_parent\"><img src=\"https://colab.research.google.com/assets/colab-badge.svg\" alt=\"Open In Colab\"/></a>"
      ]
    },
    {
      "cell_type": "markdown",
      "metadata": {
        "id": "mN0I1hYvp4Gx",
        "colab_type": "text"
      },
      "source": [
        "### Name: \n",
        "\n",
        "### Student ID: "
      ]
    },
    {
      "cell_type": "markdown",
      "metadata": {
        "id": "bHi2H286paFN",
        "colab_type": "text"
      },
      "source": [
        "# Math 210 Lab 5\n",
        "\n",
        "Goals:\n",
        " \n",
        "* Compute and visualize a recursive sequence.\n",
        "* Determine how the parameters in this family of sequences behave.\n"
      ]
    },
    {
      "cell_type": "markdown",
      "metadata": {
        "id": "WEEEmHOILj7_",
        "colab_type": "text"
      },
      "source": [
        "In this lab you will study sequences that model population growth.  A **recursive sequence** is one in which each term is computed from the previous term.  For instance given the sequence with the rule $$a_{n+1}=\\frac{1}{1+a_n}$$ and the initial value $a_1=1$.  We can compute $$a_2=\\frac{1}{1+1}=\\frac{1}{2}$$\n",
        "$$a_3=\\frac{1}{1+\\frac{1}{2}}=\\frac{2}{3}$$\n",
        "\n",
        "Concept check: can you compute $a_4$ and $a_5$?  Confirm with someone near you that you are both computing correctly.  \n",
        "\n",
        "Is there any shortcut to compute $a_{100}$?  The answer is no.  Thus recursive sequences are ideally computed by machines.\n",
        "\n",
        "We'll start with importing the usual libraries."
      ]
    },
    {
      "cell_type": "code",
      "metadata": {
        "id": "mZZqUPjspZGa",
        "colab_type": "code",
        "colab": {}
      },
      "source": [
        "import numpy as np\n",
        "import matplotlib.pyplot as plt\n",
        "\n",
        "\n"
      ],
      "execution_count": 0,
      "outputs": []
    },
    {
      "cell_type": "markdown",
      "metadata": {
        "id": "lqAspVZVZxLL",
        "colab_type": "text"
      },
      "source": [
        "Here are two functions.  \n",
        "* The first computes (and plots if desired) n terms of a recursive sequence where $a$ is the first term.  It returns last 4 terms of the sequence as a list and plots a graph.\n",
        "* The second is our recursion.  It should look familiar.\n"
      ]
    },
    {
      "cell_type": "code",
      "metadata": {
        "id": "_oFqk7lLZw65",
        "colab_type": "code",
        "colab": {}
      },
      "source": [
        "# This function evaluates the nth Taylor polynomial at x by summing the terms\n",
        "def plotSequence(f, a, n):\n",
        "  sequence=[]\n",
        "  for k in range(n):\n",
        "    sequence.append(a)\n",
        "    a=f(a)\n",
        "  x=np.arange(1,n,1)\n",
        "  plt.plot(sequence,'o')\n",
        "  plt.show\n",
        "  return sequence[-4:]\n",
        "\n",
        "def f(x):\n",
        "  return 1/(1+x)"
      ],
      "execution_count": 0,
      "outputs": []
    },
    {
      "cell_type": "markdown",
      "metadata": {
        "id": "GAc0zC9Z-2K9",
        "colab_type": "text"
      },
      "source": [
        "To compute/plot the first 20 terms of the sequence we call the function as follows:\n"
      ]
    },
    {
      "cell_type": "code",
      "metadata": {
        "id": "cmsE0m2U77n2",
        "colab_type": "code",
        "colab": {}
      },
      "source": [
        "plotSequence(f,1,20)"
      ],
      "execution_count": 0,
      "outputs": []
    },
    {
      "cell_type": "markdown",
      "metadata": {
        "id": "wT36AkqaLzww",
        "colab_type": "text"
      },
      "source": [
        "Your recursion will be one that models the population of an animal in a habitat that can only support $K$ units of population.  Given unlimited resources the animal reproduces at a rate of $r$ new animals per unit of population.  The formula is $$a_{n+1}=ra_n(K-a_n).$$\n",
        "\n",
        "Enter your name below and run the code.  The output box will have your $K$ your $r$ and your initial term $a$."
      ]
    },
    {
      "cell_type": "code",
      "metadata": {
        "id": "eCCkDexLMIwV",
        "colab_type": "code",
        "colab": {}
      },
      "source": [
        "yourName=''  #your name goes between the ' marks.\n",
        "\n",
        "def alphanum(name):\n",
        "  if 64<ord(name[0])<91:\n",
        "    return ord(name[0])-64\n",
        "  elif 96<ord(name[0])<123:\n",
        "    return ord(name[0])-96\n",
        "  else:\n",
        "    return 0\n",
        "  \n",
        "\n",
        "if alphanum(yourName)==0:\n",
        "  print(\"Your name doesn't seem to start with a letter. Try again.\")\n",
        "  students=[]\n",
        "elif 1<=alphanum(yourName)<=3:\n",
        "  values='Your values are K=1, r=2.5, a=0.5'\n",
        "elif 4<=alphanum(yourName)<=6:\n",
        "  values='Your values are K=1, r=3.4, a=0.5' \n",
        "elif 7<=alphanum(yourName)<=10:\n",
        "  values='Your values are K=1, r=3.7, a=0.5'\n",
        "elif 11<=alphanum(yourName)<=12:\n",
        "  values='Your values are K=1, r=3.1, a=0.5'\n",
        "elif 13<=alphanum(yourName)<=17:\n",
        "  values='Your values are K=1, r=3.3, a=0.5'\n",
        "elif 18<=alphanum(yourName)<=21:\n",
        "  values='Your values are K=1, r=3.6, a=0.5'\n",
        "elif 22<=alphanum(yourName)<=26:\n",
        "  values='Your values are K=1, r=2.9, a=0.5'\n",
        "\n",
        "\n",
        "\n",
        "print(values)"
      ],
      "execution_count": 0,
      "outputs": []
    },
    {
      "cell_type": "markdown",
      "metadata": {
        "id": "2M0GMyoeDgMg",
        "colab_type": "text"
      },
      "source": [
        "You'll need to write a function (maybe `g(x)`) that takes an element of your sequence `x` and returns the next element.  You can look at my definition of `f` for an example."
      ]
    },
    {
      "cell_type": "code",
      "metadata": {
        "id": "BRkeghAODxhl",
        "colab_type": "code",
        "colab": {}
      },
      "source": [
        ""
      ],
      "execution_count": 0,
      "outputs": []
    },
    {
      "cell_type": "markdown",
      "metadata": {
        "id": "aEEBjVPyDzIK",
        "colab_type": "text"
      },
      "source": [
        "If that worked, we should be ready to graph your sequence.  You'll need to plug in your initial value."
      ]
    },
    {
      "cell_type": "code",
      "metadata": {
        "id": "94m5rDnxD6Cr",
        "colab_type": "code",
        "colab": {}
      },
      "source": [
        "plotSequence(g,a,12)"
      ],
      "execution_count": 0,
      "outputs": []
    },
    {
      "cell_type": "markdown",
      "metadata": {
        "id": "WVsGlmYkAfLR",
        "colab_type": "text"
      },
      "source": [
        "# Questions\n",
        "Write answers to these questions using code and text blocks.  When you are satisfied, download and submit an .ipynb file to Canvas."
      ]
    },
    {
      "cell_type": "markdown",
      "metadata": {
        "id": "GsSTT8BRt9ab",
        "colab_type": "text"
      },
      "source": [
        "## Q1 \n",
        "The recursion \n",
        "\n",
        "$$a_{n+1}=\\frac{1}{1+a_n}$$\n",
        "\n",
        "appeared to approach a limit.  This is called a **equilibrium**.  At this value, the recursion is leaving the input value unchanged.  Algebraically, it was a solution to $$a_{n+1}=a_n$$ which solved to $a_n=\\frac{\\sqrt{5}=1}{2}$.\n",
        "\n",
        "What is the equilibrium for you recursion?  Justify your answer with algebra. (You may want to look in these text boxes for ideas about how to format math in a Jupyter notebook).\n",
        "\n"
      ]
    },
    {
      "cell_type": "markdown",
      "metadata": {
        "id": "6gvhAaIzbgjR",
        "colab_type": "text"
      },
      "source": [
        "## Q2\n",
        "\n",
        "How do different values of $r$ affect how/whether this sequence approaches an equilibrium?  You should look for several different types of behavior among other students and include their graphs as evidence."
      ]
    }
  ]
}