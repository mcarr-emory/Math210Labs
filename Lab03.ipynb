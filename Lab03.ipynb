{
  "nbformat": 4,
  "nbformat_minor": 0,
  "metadata": {
    "colab": {
      "name": "Lab 03.ipynb",
      "provenance": [],
      "collapsed_sections": [],
      "include_colab_link": true
    },
    "kernelspec": {
      "name": "python3",
      "display_name": "Python 3"
    }
  },
  "cells": [
    {
      "cell_type": "markdown",
      "metadata": {
        "id": "view-in-github",
        "colab_type": "text"
      },
      "source": [
        "<a href=\"https://colab.research.google.com/github/mcarr-emory/Math210Labs/blob/master/Lab03.ipynb\" target=\"_parent\"><img src=\"https://colab.research.google.com/assets/colab-badge.svg\" alt=\"Open In Colab\"/></a>"
      ]
    },
    {
      "cell_type": "markdown",
      "metadata": {
        "id": "mN0I1hYvp4Gx",
        "colab_type": "text"
      },
      "source": [
        "### Name: \n",
        "\n",
        "### Student ID: "
      ]
    },
    {
      "cell_type": "markdown",
      "metadata": {
        "id": "bHi2H286paFN",
        "colab_type": "text"
      },
      "source": [
        "# Math 210 Lab 3\n",
        "\n",
        "Goals:\n",
        " \n",
        "* Generate random data using numpy.\n",
        "* Generate histograms using matplotlib.\n",
        "* Determine how the average of a sample of a random variable behaves.\n"
      ]
    },
    {
      "cell_type": "markdown",
      "metadata": {
        "id": "WEEEmHOILj7_",
        "colab_type": "text"
      },
      "source": [
        "In this lab we're going to generate random data and display it.  First we'll need to import libraries."
      ]
    },
    {
      "cell_type": "code",
      "metadata": {
        "id": "mZZqUPjspZGa",
        "colab_type": "code",
        "colab": {}
      },
      "source": [
        "import numpy as np\n",
        "from numpy.polynomial import polynomial as poly \n",
        "import matplotlib.pyplot as plt\n",
        "\n",
        "\n"
      ],
      "execution_count": 0,
      "outputs": []
    },
    {
      "cell_type": "markdown",
      "metadata": {
        "id": "wT36AkqaLzww",
        "colab_type": "text"
      },
      "source": [
        "First you'll need a random variable to study.  Fill in your name in the code below (remember the ''), run it, and your random variable will appear in the output box."
      ]
    },
    {
      "cell_type": "code",
      "metadata": {
        "id": "eCCkDexLMIwV",
        "colab_type": "code",
        "colab": {}
      },
      "source": [
        "yourName='bob'  #your name goes between the ' marks.\n",
        "\n",
        "def alphanum(name):\n",
        "  if 64<ord(name[0])<91:\n",
        "    return ord(name[0])-64\n",
        "  elif 96<ord(name[0])<123:\n",
        "    return ord(name[0])-96\n",
        "  else:\n",
        "    return 0\n",
        "  \n",
        "global myrand\n",
        "\n",
        "if alphanum(yourName)==0:\n",
        "  print(\"Your name doesn't seem to start with a letter. Try again.\")\n",
        "  students=[]\n",
        "elif 1<=alphanum(yourName)<=3:\n",
        "  def f(x):\n",
        "    if 0<x<1:\n",
        "      return x*(1-x)**4*30\n",
        "    else:\n",
        "      return 0\n",
        "  x=np.arange(-0.5,1.5,0.01)\n",
        "  rvName='beta(2,5)'\n",
        "  def myrand(n):\n",
        "    return np.random.beta(2,5,n)\n",
        "  npCommand='np.random.beta(2,5,n)'\n",
        "  latexDensity='$f_X(x)=30x(1-x)^4\\qquad 0\\leq x\\leq 1$'\n",
        "elif 4<=alphanum(yourName)<=6:\n",
        "  def f(x):\n",
        "    if 3<x<6:\n",
        "      return (2*x-6)/9\n",
        "    else:\n",
        "      return 0\n",
        "  x=np.arange(2,7,0.01)\n",
        "  rvName='triangular(3,6,6)'\n",
        "  def myrand(n):\n",
        "    return np.random.triangular(3, 6, 6, n)  \n",
        "  npCommand='np.random.triangular(3, 6, 6, n)'\n",
        "  latexDensity='$f_X(x)=(2x-6)/{9}\\qquad 3\\leq x\\leq 6$'\n",
        "elif 7<=alphanum(yourName)<=10:\n",
        "  def f(x):\n",
        "    if 1<x<6:\n",
        "      return 0.2\n",
        "    else:\n",
        "      return 0\n",
        "  x=np.arange(0,7,0.01)\n",
        "  rvName='uniform(1,6)'\n",
        "  def myrand(n):\n",
        "    return np.random.triangular(1, 6, n)  \n",
        "  npCommand='np.random.uniform(1, 6,n)'\n",
        "  latexDensity='$f_X(x)=0.2\\qquad 1\\leq x\\leq 6$'\n",
        "#elif 11<=alphanum(yourName)<=12: to do\n",
        "#elif 13<=alphanum(yourName)<=17: to do\n",
        "#elif 18<=alphanum(yourName)<=21: to do\n",
        "#elif 22<=alphanum(yourName)<=26: to do\n",
        "  \n",
        "\n",
        "print(f'You will be working with a {rvName} distribution.  Its probability density function is graphed below.')\n",
        "\n",
        "plt.plot(x,list(map(f,x)))\n",
        "axis=plt.gca()\n",
        "axis.set_title(latexDensity)\n",
        "plt.show()\n",
        "\n",
        "print(f'The function myrand(n) has been defined to call {npCommand} which produces a size n sample of your random variable.')"
      ],
      "execution_count": 0,
      "outputs": []
    },
    {
      "cell_type": "markdown",
      "metadata": {
        "id": "BT27nuKlVE72",
        "colab_type": "text"
      },
      "source": [
        "Go ahead an generate a size 10 sample from your distribution."
      ]
    },
    {
      "cell_type": "code",
      "metadata": {
        "id": "6zSyL6dSRluR",
        "colab_type": "code",
        "outputId": "bc024fd4-7010-43f8-8cf7-8a6ae8a6b186",
        "colab": {
          "base_uri": "https://localhost:8080/",
          "height": 53
        }
      },
      "source": [
        "myrand(10)"
      ],
      "execution_count": 0,
      "outputs": [
        {
          "output_type": "execute_result",
          "data": {
            "text/plain": [
              "array([5.42996492, 4.50636106, 5.12166611, 5.54919705, 5.39061091,\n",
              "       4.88388945, 5.11535124, 3.7465549 , 5.17282542, 4.00330185])"
            ]
          },
          "metadata": {
            "tags": []
          },
          "execution_count": 50
        }
      ]
    },
    {
      "cell_type": "markdown",
      "metadata": {
        "id": "zjzhy8vmVRSs",
        "colab_type": "text"
      },
      "source": [
        "### Generating a Histogram\n",
        "\n",
        "This is cool, but it doesn't tell us much.  Fortunately, the matplotlib package can produce histograms.  Instead of spewing our sample into the output box, let's assign it to the vairable `sample`.  The remaining code will create a histogram showing the number of samples that fall into each range."
      ]
    },
    {
      "cell_type": "code",
      "metadata": {
        "id": "jmWb-pm5VQlx",
        "colab_type": "code",
        "outputId": "865e0aa5-acc6-4d0f-df07-837507c66e5f",
        "colab": {
          "base_uri": "https://localhost:8080/",
          "height": 281
        }
      },
      "source": [
        "sample= myrand(10)    \n",
        "\n",
        "plt.hist(sample, edgecolor='black', bins=5)\n",
        "axis=plt.gca()\n",
        "axis.set_title(f'A Size {str(len(sample))} Sample of a {rvName} Random Variable')\n",
        "plt.show()"
      ],
      "execution_count": 8,
      "outputs": [
        {
          "output_type": "display_data",
          "data": {
            "image/png": "[encoded data removed]",
            "text/plain": [
              "<Figure size 432x288 with 1 Axes>"
            ]
          },
          "metadata": {
            "tags": []
          }
        }
      ]
    },
    {
      "cell_type": "markdown",
      "metadata": {
        "id": "bCUBFTQvWSUF",
        "colab_type": "text"
      },
      "source": [
        "That makes a nice picture, but ten samples sorted into five categories is too few to notice a pattern.  \n",
        "\n",
        "1. Try size one million instead.\n",
        "\n",
        "2. Try increasing the number of bins to 20 or more.\n",
        "\n",
        "3. How does the resulting histogram relate to your density function? \n",
        "\n",
        "Once you've explored that, let's compute the average value of your sample.  Can you explain what this code is doing?\n"
      ]
    },
    {
      "cell_type": "code",
      "metadata": {
        "id": "qi6_i7lxXPsM",
        "colab_type": "code",
        "colab": {}
      },
      "source": [
        "sum=0\n",
        "for i in sample:\n",
        "  sum+=i\n",
        "print(sum/len(sample))"
      ],
      "execution_count": 0,
      "outputs": []
    },
    {
      "cell_type": "markdown",
      "metadata": {
        "id": "UcLYwk_yXihK",
        "colab_type": "text"
      },
      "source": [
        "### Distribution of the Averages\n",
        "\n",
        "With 1000000 samples, the average of the sample should be very close to the average value of the variable.  With fewer samples, the average of a sample could vary in an interesting way.  Let's explore this by creating lots of sample averages.  We'll write a function to do this.  It will depend on\n",
        "* m, the number of averages to compute\n",
        "* n, the size of each sample that we're averaging."
      ]
    },
    {
      "cell_type": "code",
      "metadata": {
        "id": "-CeimhCuSOcR",
        "colab_type": "code",
        "colab": {}
      },
      "source": [
        "def averages(m,n,draw=False):\n",
        "  global avg\n",
        "  avg=[]\n",
        "  for i in range(m):\n",
        "   sample= myrand(n)       \n",
        "   sum=0\n",
        "   for i in sample:\n",
        "      sum+=i\n",
        "   avg.append(sum/len(sample))\n",
        "  if draw==True:\n",
        "    plt.hist(avg, edgecolor='black', bins=50)\n",
        "    axis=plt.gca()\n",
        "    axis.set_title(f'Average Values of {rvName} for Sample Size $n={n}$')\n",
        "    plt.show()"
      ],
      "execution_count": 0,
      "outputs": []
    },
    {
      "cell_type": "markdown",
      "metadata": {
        "id": "rIbAEE4Naoo7",
        "colab_type": "text"
      },
      "source": [
        "The following code should plot a histogram of 10,000 averages, each of a sample size 10."
      ]
    },
    {
      "cell_type": "code",
      "metadata": {
        "id": "8lDBUOklaxu5",
        "colab_type": "code",
        "colab": {}
      },
      "source": [
        "averages(10000,10,draw=True)"
      ],
      "execution_count": 0,
      "outputs": []
    },
    {
      "cell_type": "markdown",
      "metadata": {
        "id": "V_EQZWMofZa_",
        "colab_type": "text"
      },
      "source": [
        "\"Wow,\" you say, \"is that a bell curve?\"  \n",
        "\n",
        "Yes.  That is a bell curve.  Want to see?  Let's import a normal distribution density function from the `scipy` library."
      ]
    },
    {
      "cell_type": "code",
      "metadata": {
        "id": "_Z_vpL3_rGkm",
        "colab_type": "code",
        "colab": {}
      },
      "source": [
        "from scipy.stats import norm"
      ],
      "execution_count": 0,
      "outputs": []
    },
    {
      "cell_type": "markdown",
      "metadata": {
        "id": "hdkKfC79sz7x",
        "colab_type": "text"
      },
      "source": [
        "Now lets pick a set of x values using `np.arange` and make a plot where we plug them into the probability density function of a normal variable. We'll put this and a histogram of averages on the same graph to see how they match up."
      ]
    },
    {
      "cell_type": "code",
      "metadata": {
        "id": "HLip5NpKquoI",
        "colab_type": "code",
        "colab": {}
      },
      "source": [
        "plt.plot(x, 200*norm.pdf(x,0,1))\n",
        "averages(10000,10)\n",
        "plt.hist(avg, edgecolor='black', bins=50)\n",
        "plt.show()"
      ],
      "execution_count": 0,
      "outputs": []
    },
    {
      "cell_type": "markdown",
      "metadata": {
        "id": "EDH7A99ltGeL",
        "colab_type": "text"
      },
      "source": [
        "I bet that didn't work at all.  That's because we were graphing the normal distribution with $\\mu=0$ and $\\sigma=1$, then scaling it up by 200.  That's a bell curve, but it's probably not *your* bell curve.  "
      ]
    },
    {
      "cell_type": "markdown",
      "metadata": {
        "id": "WVsGlmYkAfLR",
        "colab_type": "text"
      },
      "source": [
        "# Questions\n",
        "Write answers to these questions using code and text blocks.  When you are satisfied, download and submit an .ipynb file to Canvas."
      ]
    },
    {
      "cell_type": "markdown",
      "metadata": {
        "id": "GsSTT8BRt9ab",
        "colab_type": "text"
      },
      "source": [
        "## Q1 \n",
        "Copy/paste the bell curve code down here and play with the scale, $\\mu$ and $\\sigma$ until it matches your histogram reasonably well. You can find a geometric interpretation of $\\mu$ and  $\\sigma$ on our slides, if you need to.  You may also want to adjust the range of `x` using `x=np.arange(a,b,s)` (values from a to b with a step size s)."
      ]
    },
    {
      "cell_type": "markdown",
      "metadata": {
        "id": "6gvhAaIzbgjR",
        "colab_type": "text"
      },
      "source": [
        "## Q2\n",
        "\n",
        "Use the `averages` function to generate histograms for larger sample sizes.  What appears to happen to $\\sigma$ as the sample size changes? "
      ]
    },
    {
      "cell_type": "markdown",
      "metadata": {
        "id": "Bty6JZvYd_mD",
        "colab_type": "text"
      },
      "source": [
        "## Q3 \n",
        "\n",
        "Compare your initial function and resulting averages with other students and answer.  \n",
        "1. How do the shape and properties of your initial density function appear to correspond to the $\\sigma$ and $\\mu$ of your distribution of averages? \n",
        "2. Why does this corerspondence make sense?\n",
        "\n",
        "Be sure you compare apples to apples. If you and your neighbor are using different sample sizes, you won't be able to account for the effect of that in the data."
      ]
    }
  ]
}