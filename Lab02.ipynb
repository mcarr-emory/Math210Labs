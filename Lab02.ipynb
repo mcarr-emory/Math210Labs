{
  "nbformat": 4,
  "nbformat_minor": 0,
  "metadata": {
    "colab": {
      "name": "Untitled1.ipynb",
      "version": "0.3.2",
      "provenance": [],
      "collapsed_sections": [],
      "include_colab_link": true
    },
    "kernelspec": {
      "name": "python3",
      "display_name": "Python 3"
    }
  },
  "cells": [
    {
      "cell_type": "markdown",
      "metadata": {
        "id": "view-in-github",
        "colab_type": "text"
      },
      "source": [
        "<a href=\"https://colab.research.google.com/github/mcarr-emory/Math210Labs/blob/master/Lab02.ipynb\" target=\"_parent\"><img src=\"https://colab.research.google.com/assets/colab-badge.svg\" alt=\"Open In Colab\"/></a>"
      ]
    },
    {
      "cell_type": "markdown",
      "metadata": {
        "id": "mN0I1hYvp4Gx",
        "colab_type": "text"
      },
      "source": [
        "### Name: \n",
        "\n",
        "### Student ID: "
      ]
    },
    {
      "cell_type": "markdown",
      "metadata": {
        "id": "bHi2H286paFN",
        "colab_type": "text"
      },
      "source": [
        "# Math 210 Lab 2\n",
        "\n",
        "Goals:\n",
        " \n",
        "* Use functions to approximate integrals.\n",
        "* Use graphs to put bounds on the values of a function (especially a derviative).\n",
        "* Understand the relationship between an error bound and the actual error, and how the shape of the graph affects this discrepancy.\n"
      ]
    },
    {
      "cell_type": "markdown",
      "metadata": {
        "id": "WEEEmHOILj7_",
        "colab_type": "text"
      },
      "source": [
        "In this lab we're going to approximate integrals and study the error.  First we'll need to import libraries."
      ]
    },
    {
      "cell_type": "code",
      "metadata": {
        "id": "mZZqUPjspZGa",
        "colab_type": "code",
        "colab": {}
      },
      "source": [
        "import numpy as np\n",
        "from numpy.polynomial import polynomial as poly \n",
        "import matplotlib.pyplot as plt\n",
        "import matplotlib.patches as patches  #this will draw rectangles for us\n",
        "\n"
      ],
      "execution_count": 0,
      "outputs": []
    },
    {
      "cell_type": "markdown",
      "metadata": {
        "id": "wT36AkqaLzww",
        "colab_type": "text"
      },
      "source": [
        "Now you'll need a function $y=f(x)$.  Fill in your name in the code below (remember the ''), run it, and $f(x)$ will appear in the output box."
      ]
    },
    {
      "cell_type": "code",
      "metadata": {
        "id": "eCCkDexLMIwV",
        "colab_type": "code",
        "colab": {
          "base_uri": "https://localhost:8080/",
          "height": 54
        },
        "outputId": "fd56c2bb-fddb-4be1-e543-451f0ff6fedf"
      },
      "source": [
        "yourName='Mike'  #your name goes between the ' marks.\n",
        "\n",
        "def alphanum(name):\n",
        "  if 64<ord(name[0])<91:\n",
        "    return ord(name[0])-64\n",
        "  elif 96<ord(name[0])<123:\n",
        "    return ord(name[0])-96\n",
        "  else:\n",
        "    return 0\n",
        "  \n",
        "if alphanum(yourName)==0:\n",
        "  print(\"Your name doesn't seem to start with a letter. Try again.\")\n",
        "  students=[]\n",
        "elif 1<=alphanum(yourName)<=3:\n",
        "  c=[-6,14,-6,1]\n",
        "  fString='x^3-6x^2+14x-6'\n",
        "elif 4<=alphanum(yourName)<=6:\n",
        "  c=[20,-4,6,-1]\n",
        "  fString='-x^3+6x^2-4x+20'\n",
        "elif 7<=alphanum(yourName)<=10:\n",
        "  c=[-20,40,-12,1]\n",
        "  fString='x^3-12x^2+40x-20'\n",
        "elif 11<=alphanum(yourName)<=12:\n",
        "  c=[300,-264,96,-16,1]\n",
        "  fString='x^4-16x^3+96x^2-264x+300'\n",
        "elif 13<=alphanum(yourName)<=17:\n",
        "  c=[130,-57,12,-1]\n",
        "  fString='-x^3+12x^2-57x+130'\n",
        "elif 18<=alphanum(yourName)<=21:  \n",
        "  c=[4,6,-3,1]\n",
        "  fString='x^3-3x^2+6x+4'\n",
        "elif 22<=alphanum(yourName)<=26:  \n",
        "  c=[90,-108,54,-12,1]\n",
        "  fString='x^4-12x^3+54x^2-108x+90'\n",
        "  \n",
        "def f(x):\n",
        "  return poly.polyval(x,c)\n",
        "print(f'Your polynomial is {fString}.')\n",
        "print(f'Python has stored it as a list of coefficents c={c}.')\n"
      ],
      "execution_count": 2,
      "outputs": [
        {
          "output_type": "stream",
          "text": [
            "Your polynomial is -x^3+12x^2-57x+130.\n",
            "Python has stored it as a list of coefficents c=[130, -57, 12, -1].\n"
          ],
          "name": "stdout"
        }
      ]
    },
    {
      "cell_type": "markdown",
      "metadata": {
        "id": "FUqjJjv_Rp8q",
        "colab_type": "text"
      },
      "source": [
        "Storing your polynomial as a string of coefficents allows us to use the powerful `numpy.polynomial` library on it. This will give us automatic computation of derivatives and integrals.  To evaluate a polynomial stored this way we write."
      ]
    },
    {
      "cell_type": "code",
      "metadata": {
        "id": "FzrIkyH6RpFL",
        "colab_type": "code",
        "colab": {}
      },
      "source": [
        "#evaulate the polynomial with coefficents c at x=8\n",
        "poly.polyval(8,c)"
      ],
      "execution_count": 0,
      "outputs": []
    },
    {
      "cell_type": "markdown",
      "metadata": {
        "id": "zLgHB-OnMKDL",
        "colab_type": "text"
      },
      "source": [
        "### Approximating an Integral\n",
        "\n",
        "Here is a function that will approximate an integral.  Run the code to define the function."
      ]
    },
    {
      "cell_type": "code",
      "metadata": {
        "id": "79FAK7omxdkT",
        "colab_type": "code",
        "colab": {}
      },
      "source": [
        "#c is a list of coefficients of a polynomial.\n",
        "#a and b are bounds.  n is number of subintervals.\n",
        "#points can take 'left' 'right' or 'mid'\n",
        "#draw can take True or False\n",
        "#error can take True or False\n",
        "\n",
        "def intApprox(c,a,b,n, draw=False, points='left', error=False):  \n",
        "  deltax=(b-a)/n\n",
        "  endPoints=[]\n",
        "  if points=='mid':\n",
        "    shift=0.5*deltax\n",
        "    apxName='M'\n",
        "  elif points=='right':\n",
        "    shift=deltax\n",
        "    apxName='R'\n",
        "  else:\n",
        "    shift=0\n",
        "    apxName='L'    \n",
        "  if draw:\n",
        "    plt.figure()\n",
        "    x=np.arange(a-(b-a)/10, b+(b-a)/10, (b-a)/100)\n",
        "    axis=plt.gca()\n",
        "    plt.plot(x,poly.polyval(x,c))\n",
        "  for i in range(n):\n",
        "    endPoints.append(a+i*deltax)\n",
        "  approximation=0\n",
        "  for xi in endPoints:\n",
        "    approximation=approximation+poly.polyval(xi+shift,c)*deltax\n",
        "    if draw:\n",
        "      rect=patches.Rectangle((xi,0), deltax,poly.polyval(xi+shift,c), fill=None)\n",
        "      axis.add_patch(rect)\n",
        "  if draw:\n",
        "    title='$'+apxName+'_{'+str(n)+'}$ Approximation for c='+str(c)\n",
        "    axis.set_title(title)\n",
        "    plt.show()  \n",
        "  if error: #these two lines compute the error using the FTC\n",
        "    trueValue=poly.polyval(b,poly.polyint(c))-poly.polyval(a,poly.polyint(c))\n",
        "    return({'approximation' : approximation, 'error':approximation-trueValue})\n",
        "  else:\n",
        "    return(approximation)"
      ],
      "execution_count": 0,
      "outputs": []
    },
    {
      "cell_type": "markdown",
      "metadata": {
        "id": "r-fgQuY6M1Db",
        "colab_type": "text"
      },
      "source": [
        "Now we are ready to run it.  The coefficients of your function are still saved under the name `c`. The command below computes the $L_{10}$ approximation of $\\int_1^6 f(x)~dx$."
      ]
    },
    {
      "cell_type": "code",
      "metadata": {
        "id": "nkK4UAPWym4I",
        "colab_type": "code",
        "colab": {}
      },
      "source": [
        "intApprox(c,1,6,10)\n"
      ],
      "execution_count": 0,
      "outputs": []
    },
    {
      "cell_type": "markdown",
      "metadata": {
        "id": "kQ5_hLvINIvi",
        "colab_type": "text"
      },
      "source": [
        "I've built some extra options into the code.  The code below includes these options.  Feel free to play with these.  \n",
        "1. Can you get a midpoint approximation?  How does the error $E_M$ comapre to $E_L$?\n",
        "2. What happens to the error if you increase to 100 rectangles.? 1000?\n",
        "\n",
        "\n",
        "---\n",
        "\n"
      ]
    },
    {
      "cell_type": "code",
      "metadata": {
        "id": "RWo3HC6pNUi1",
        "colab_type": "code",
        "colab": {
          "base_uri": "https://localhost:8080/",
          "height": 301
        },
        "outputId": "1635c826-007f-4120-f022-d6ff51aa704a"
      },
      "source": [
        "intApprox(c,1,6,10, points='left', error=True, draw=True)"
      ],
      "execution_count": 4,
      "outputs": [
        {
          "output_type": "display_data",
          "data": {
            "image/png": "[encoded data removed]",
            "text/plain": [
              "<Figure size 432x288 with 1 Axes>"
            ]
          },
          "metadata": {
            "tags": []
          }
        },
        {
          "output_type": "execute_result",
          "data": {
            "text/plain": [
              "{'approximation': 209.0625, 'error': 20.3125}"
            ]
          },
          "metadata": {
            "tags": []
          },
          "execution_count": 4
        }
      ]
    },
    {
      "cell_type": "markdown",
      "metadata": {
        "id": "QdepNZyRAueg",
        "colab_type": "text"
      },
      "source": [
        "### Error Bounds\n",
        "\n",
        "We have learned formulas for the error bound of $L_n$ and $M_n$. We would like to know how our actual error compares to this bound, but first we need to compute the bound.  Recall that the missing piece is a bound on $S$ on $|f'(x)|$ and a bound $K$ on $|f''(x)|$.\n",
        "\n",
        "This code will graph the derivative of your polynomial. "
      ]
    },
    {
      "cell_type": "code",
      "metadata": {
        "id": "J3vVOIZnB8-E",
        "colab_type": "code",
        "colab": {
          "base_uri": "https://localhost:8080/",
          "height": 287
        },
        "outputId": "ab4717ca-9d2c-440b-dfe1-77a7e728c860"
      },
      "source": [
        "#define d as the derivative of c\n",
        "d=poly.polyder(c) \n",
        "\n",
        "#set up a plot\n",
        "plt.figure()\n",
        "\n",
        "#choose x values from 1 to 6\n",
        "x=np.arange(1, 6, 1/100)\n",
        "\n",
        "#plot the function. poly.polyval evaluates the polynomial at x\n",
        "plt.plot(x,poly.polyval(x,d))\n",
        "\n",
        "#print the coefficients of d\n",
        "print(d)\n",
        "\n",
        "#show the graph\n",
        "plt.show()\n"
      ],
      "execution_count": 6,
      "outputs": [
        {
          "output_type": "stream",
          "text": [
            "[-57.  24.  -3.]\n"
          ],
          "name": "stdout"
        },
        {
          "output_type": "display_data",
          "data": {
            "image/png": "[encoded data removed]",
            "text/plain": [
              "<Figure size 432x288 with 1 Axes>"
            ]
          },
          "metadata": {
            "tags": []
          }
        }
      ]
    },
    {
      "cell_type": "markdown",
      "metadata": {
        "id": "MEjiJOCrC9_o",
        "colab_type": "text"
      },
      "source": [
        "If you can see where the maximum value of $|f'(x)|$ lies on $[a,b]$, you can evaluate the derivative using the code `poly.polyval(x,d)`."
      ]
    },
    {
      "cell_type": "code",
      "metadata": {
        "id": "wmCB6Ft3DS8-",
        "colab_type": "code",
        "colab": {}
      },
      "source": [
        "#Evaluate the derivative of f at x=12\n",
        "poly.polyval(12,d)"
      ],
      "execution_count": 0,
      "outputs": []
    },
    {
      "cell_type": "markdown",
      "metadata": {
        "id": "WVsGlmYkAfLR",
        "colab_type": "text"
      },
      "source": [
        "# Questions\n",
        "Write answers to these questions using code and text blocks.  When you are satisfied, download and submit an .ipynb file to Canvas."
      ]
    },
    {
      "cell_type": "markdown",
      "metadata": {
        "id": "ng-zp53MHFPa",
        "colab_type": "text"
      },
      "source": [
        "## Q1\n",
        "\n",
        "Write a code block that will graph the second derivative of your function (hint: copy/paste exists).  Use that graph and the evaluation function to get a reasonable bound for $|f''(x)|$."
      ]
    },
    {
      "cell_type": "markdown",
      "metadata": {
        "id": "DeUCg___Aozs",
        "colab_type": "text"
      },
      "source": [
        "## Q2\n",
        "\n",
        "State your bounds on $|f'(x)|$ and $|f''(x)|$.  Compute the theoretical bounds for $E_L$ and $E_M$ by inputting the relevent calculations into code block and running them. (You can use Python as a simple calculator, for example $\\frac{12(7^2)}{5-8}$ can be computed by inputting `(12*7*7)/(5-8)`).\n",
        "\n",
        "Slides are here http://www.math.emory.edu/~mpcarr/math210/index.html if you need to look up formulas."
      ]
    },
    {
      "cell_type": "markdown",
      "metadata": {
        "id": "2JfH_1e2Hv7r",
        "colab_type": "text"
      },
      "source": [
        "## Q3\n",
        "\n",
        "How does your actual error compare to the theoretical error bound?  Compare with other students and determine what geometric properties of a graph will cause the actual errors $E_L$ and $E_M$ to be close to the theoretical bounds and what properties will cause it to be much smaller.  You answer should include a few paragraphs of observations with relevent pictures.  \n",
        "\n",
        "You can easily create pictures of other people's functions by directly putting them into the `intApprox` function as shown below."
      ]
    },
    {
      "cell_type": "code",
      "metadata": {
        "id": "vt12dhCgKUMb",
        "colab_type": "code",
        "colab": {
          "base_uri": "https://localhost:8080/",
          "height": 301
        },
        "outputId": "ad0b8e34-3480-44bc-cb54-a12243898f7a"
      },
      "source": [
        "#The L_10 approximation of the integral of x^2+3x+2 from 1 to 6\n",
        "intApprox([2,3,1],1,6,10, draw=True, error=True, points='left')"
      ],
      "execution_count": 5,
      "outputs": [
        {
          "output_type": "display_data",
          "data": {
            "image/png": "[encoded data removed]",
            "text/plain": [
              "<Figure size 432x288 with 1 Axes>"
            ]
          },
          "metadata": {
            "tags": []
          }
        },
        {
          "output_type": "execute_result",
          "data": {
            "text/plain": [
              "{'approximation': 121.875, 'error': -12.291666666666657}"
            ]
          },
          "metadata": {
            "tags": []
          },
          "execution_count": 5
        }
      ]
    }
  ]
}